{
 "cells": [
  {
   "cell_type": "markdown",
   "metadata": {
    "slideshow": {
     "slide_type": "slide"
    }
   },
   "source": [
    "# Data Cleaning\n",
    "\n",
    "**Note**: To run notebooks on the cluster, you will need the Jupyter extension in VSCode and also the *ipykernel* library from the *requirements.txt* in Lecture_1."
   ]
  },
  {
   "cell_type": "markdown",
   "metadata": {
    "slideshow": {
     "slide_type": "fragment"
    }
   },
   "source": [
    "## Missing Values\n",
    "\n",
    "There are three main options how to deal with missing values:\n",
    "\n",
    "1. drop rows with missing values\n",
    " - probably ok, if you have enough data\n",
    " - but can introduce [biases in your downstream models](https://ssc.io/publication/fairprep-promoting-data-to-a-first-class-citizen-in-studies-on-fairness-enhancing-interventions-edbt/)\n",
    "2. replace missing values with placeholders\n",
    " - probably ok, if you have a nonlinear downstream model and the right type of missingness\n",
    " - you can come up with the placeholder either from the statistics of your data e.g. mean or median value, or through informed decision rules (usually domain knowledge required)\n",
    "3. impute missing values \n",
    " - with some standard ML model e.g. in [``sklearn``](https://scikit-learn.org/stable/index.html)\n",
    " - via more modern approaches (stay tuned for our invited speaker at 1pm)"
   ]
  },
  {
   "cell_type": "code",
   "execution_count": 1,
   "metadata": {
    "slideshow": {
     "slide_type": "slide"
    }
   },
   "outputs": [
    {
     "data": {
      "application/vnd.microsoft.datawrangler.viewer.v0+json": {
       "columns": [
        {
         "name": "index",
         "rawType": "object",
         "type": "string"
        },
        {
         "name": "0",
         "rawType": "float64",
         "type": "float"
        }
       ],
       "ref": "960000bd-7119-4f66-8f26-727f4dbc7489",
       "rows": [
        [
         "1945",
         "2807405.0"
        ],
        [
         "1950",
         "3336026.0"
        ],
        [
         "1955",
         null
        ],
        [
         "1960",
         "3274016.0"
        ],
        [
         "1965",
         null
        ],
        [
         "1970",
         "3208719.0"
        ]
       ],
       "shape": {
        "columns": 1,
        "rows": 6
       }
      },
      "text/plain": [
       "1945    2807405.0\n",
       "1950    3336026.0\n",
       "1955          NaN\n",
       "1960    3274016.0\n",
       "1965          NaN\n",
       "1970    3208719.0\n",
       "dtype: float64"
      ]
     },
     "execution_count": 1,
     "metadata": {},
     "output_type": "execute_result"
    }
   ],
   "source": [
    "import pandas as pd\n",
    "import numpy as np\n",
    "\n",
    "berlin_population_dict = {\n",
    " '1945': 2807405,\n",
    " '1950': 3336026,\n",
    " '1955': None,                         \n",
    " '1960': 3274016,\n",
    " '1965': np.nan, # pandas understands different missing values                        \n",
    " '1970': 3208719}\n",
    "\n",
    "population_w_nans = pd.Series(berlin_population_dict)\n",
    "population_w_nans"
   ]
  },
  {
   "cell_type": "markdown",
   "metadata": {
    "slideshow": {
     "slide_type": "slide"
    }
   },
   "source": [
    "### 1. Dropping Rows\n",
    "\n",
    "Easy with boolean indexing in pandas or numpy"
   ]
  },
  {
   "cell_type": "code",
   "execution_count": 2,
   "metadata": {
    "slideshow": {
     "slide_type": "fragment"
    }
   },
   "outputs": [
    {
     "data": {
      "application/vnd.microsoft.datawrangler.viewer.v0+json": {
       "columns": [
        {
         "name": "index",
         "rawType": "object",
         "type": "string"
        },
        {
         "name": "0",
         "rawType": "bool",
         "type": "boolean"
        }
       ],
       "ref": "a96d567e-c367-460a-a535-5daf9f259352",
       "rows": [
        [
         "1945",
         "False"
        ],
        [
         "1950",
         "False"
        ],
        [
         "1955",
         "True"
        ],
        [
         "1960",
         "False"
        ],
        [
         "1965",
         "True"
        ],
        [
         "1970",
         "False"
        ]
       ],
       "shape": {
        "columns": 1,
        "rows": 6
       }
      },
      "text/plain": [
       "1945    False\n",
       "1950    False\n",
       "1955     True\n",
       "1960    False\n",
       "1965     True\n",
       "1970    False\n",
       "dtype: bool"
      ]
     },
     "execution_count": 2,
     "metadata": {},
     "output_type": "execute_result"
    }
   ],
   "source": [
    "population_w_nans.isnull()"
   ]
  },
  {
   "cell_type": "code",
   "execution_count": 6,
   "metadata": {
    "slideshow": {
     "slide_type": "fragment"
    }
   },
   "outputs": [
    {
     "data": {
      "application/vnd.microsoft.datawrangler.viewer.v0+json": {
       "columns": [
        {
         "name": "index",
         "rawType": "object",
         "type": "string"
        },
        {
         "name": "0",
         "rawType": "float64",
         "type": "float"
        }
       ],
       "ref": "66f82f0c-2223-4092-b460-917194cdab30",
       "rows": [
        [
         "1945",
         "2807405.0"
        ],
        [
         "1950",
         "3336026.0"
        ],
        [
         "1960",
         "3274016.0"
        ],
        [
         "1970",
         "3208719.0"
        ]
       ],
       "shape": {
        "columns": 1,
        "rows": 4
       }
      },
      "text/plain": [
       "1945    2807405.0\n",
       "1950    3336026.0\n",
       "1960    3274016.0\n",
       "1970    3208719.0\n",
       "dtype: float64"
      ]
     },
     "execution_count": 6,
     "metadata": {},
     "output_type": "execute_result"
    }
   ],
   "source": [
    "population_w_nans[~population_w_nans.isnull()]"
   ]
  },
  {
   "cell_type": "code",
   "execution_count": 7,
   "metadata": {
    "slideshow": {
     "slide_type": "fragment"
    }
   },
   "outputs": [
    {
     "data": {
      "application/vnd.microsoft.datawrangler.viewer.v0+json": {
       "columns": [
        {
         "name": "index",
         "rawType": "object",
         "type": "string"
        },
        {
         "name": "0",
         "rawType": "float64",
         "type": "float"
        }
       ],
       "ref": "28c5f63c-4882-4394-bb06-443bab5ddbac",
       "rows": [
        [
         "1945",
         "2807405.0"
        ],
        [
         "1950",
         "3336026.0"
        ],
        [
         "1960",
         "3274016.0"
        ],
        [
         "1970",
         "3208719.0"
        ]
       ],
       "shape": {
        "columns": 1,
        "rows": 4
       }
      },
      "text/plain": [
       "1945    2807405.0\n",
       "1950    3336026.0\n",
       "1960    3274016.0\n",
       "1970    3208719.0\n",
       "dtype: float64"
      ]
     },
     "execution_count": 7,
     "metadata": {},
     "output_type": "execute_result"
    }
   ],
   "source": [
    "population_w_nans.dropna()"
   ]
  },
  {
   "cell_type": "markdown",
   "metadata": {
    "slideshow": {
     "slide_type": "slide"
    }
   },
   "source": [
    "### 2. Filling with Placeholder\n"
   ]
  },
  {
   "cell_type": "code",
   "execution_count": 9,
   "metadata": {
    "slideshow": {
     "slide_type": "fragment"
    }
   },
   "outputs": [
    {
     "name": "stderr",
     "output_type": "stream",
     "text": [
      "/tmp/ipykernel_1117/2403931827.py:1: FutureWarning: Series.fillna with 'method' is deprecated and will raise in a future version. Use obj.ffill() or obj.bfill() instead.\n",
      "  population_w_nans.fillna(method='ffill') # just copy-paste the last valid value\n"
     ]
    },
    {
     "data": {
      "application/vnd.microsoft.datawrangler.viewer.v0+json": {
       "columns": [
        {
         "name": "index",
         "rawType": "object",
         "type": "string"
        },
        {
         "name": "0",
         "rawType": "float64",
         "type": "float"
        }
       ],
       "ref": "9ed89f13-d0ac-4c10-95c7-71d71743a657",
       "rows": [
        [
         "1945",
         "2807405.0"
        ],
        [
         "1950",
         "3336026.0"
        ],
        [
         "1955",
         "3336026.0"
        ],
        [
         "1960",
         "3274016.0"
        ],
        [
         "1965",
         "3274016.0"
        ],
        [
         "1970",
         "3208719.0"
        ]
       ],
       "shape": {
        "columns": 1,
        "rows": 6
       }
      },
      "text/plain": [
       "1945    2807405.0\n",
       "1950    3336026.0\n",
       "1955    3336026.0\n",
       "1960    3274016.0\n",
       "1965    3274016.0\n",
       "1970    3208719.0\n",
       "dtype: float64"
      ]
     },
     "execution_count": 9,
     "metadata": {},
     "output_type": "execute_result"
    }
   ],
   "source": [
    "population_w_nans.fillna(method='ffill') # just copy-paste the last valid value"
   ]
  },
  {
   "cell_type": "code",
   "execution_count": 8,
   "metadata": {},
   "outputs": [
    {
     "name": "stderr",
     "output_type": "stream",
     "text": [
      "/tmp/ipykernel_1117/1579020210.py:1: FutureWarning: Series.fillna with 'method' is deprecated and will raise in a future version. Use obj.ffill() or obj.bfill() instead.\n",
      "  population_w_nans.fillna(method='bfill') # just copy-paste the next valid value\n"
     ]
    },
    {
     "data": {
      "application/vnd.microsoft.datawrangler.viewer.v0+json": {
       "columns": [
        {
         "name": "index",
         "rawType": "object",
         "type": "string"
        },
        {
         "name": "0",
         "rawType": "float64",
         "type": "float"
        }
       ],
       "ref": "95d1674c-a32c-456f-8c4b-415f82059163",
       "rows": [
        [
         "1945",
         "2807405.0"
        ],
        [
         "1950",
         "3336026.0"
        ],
        [
         "1955",
         "3274016.0"
        ],
        [
         "1960",
         "3274016.0"
        ],
        [
         "1965",
         "3208719.0"
        ],
        [
         "1970",
         "3208719.0"
        ]
       ],
       "shape": {
        "columns": 1,
        "rows": 6
       }
      },
      "text/plain": [
       "1945    2807405.0\n",
       "1950    3336026.0\n",
       "1955    3274016.0\n",
       "1960    3274016.0\n",
       "1965    3208719.0\n",
       "1970    3208719.0\n",
       "dtype: float64"
      ]
     },
     "execution_count": 8,
     "metadata": {},
     "output_type": "execute_result"
    }
   ],
   "source": [
    "population_w_nans.fillna(method='bfill') # just copy-paste the next valid value"
   ]
  },
  {
   "cell_type": "code",
   "execution_count": null,
   "metadata": {
    "slideshow": {
     "slide_type": "fragment"
    }
   },
   "outputs": [
    {
     "data": {
      "application/vnd.microsoft.datawrangler.viewer.v0+json": {
       "columns": [
        {
         "name": "index",
         "rawType": "object",
         "type": "string"
        },
        {
         "name": "0",
         "rawType": "float64",
         "type": "float"
        }
       ],
       "ref": "b292c378-22e8-4718-91f3-b8e259deb3f6",
       "rows": [
        [
         "1945",
         "2807405.0"
        ],
        [
         "1950",
         "3336026.0"
        ],
        [
         "1955",
         "3241367.5"
        ],
        [
         "1960",
         "3274016.0"
        ],
        [
         "1965",
         "3241367.5"
        ],
        [
         "1970",
         "3208719.0"
        ]
       ],
       "shape": {
        "columns": 1,
        "rows": 6
       }
      },
      "text/plain": [
       "1945    2807405.0\n",
       "1950    3336026.0\n",
       "1955    3241367.5\n",
       "1960    3274016.0\n",
       "1965    3241367.5\n",
       "1970    3208719.0\n",
       "dtype: float64"
      ]
     },
     "execution_count": 10,
     "metadata": {},
     "output_type": "execute_result"
    }
   ],
   "source": [
    "population_w_nans.fillna(value=population_w_nans.median()) # replace with median"
   ]
  },
  {
   "cell_type": "markdown",
   "metadata": {
    "slideshow": {
     "slide_type": "slide"
    }
   },
   "source": [
    "#### Filling with Placeholder in ``sklearn``\n",
    "\n",
    "This way you'll be able to replace missing values in ML Pipelines"
   ]
  },
  {
   "cell_type": "code",
   "execution_count": null,
   "metadata": {
    "slideshow": {
     "slide_type": "fragment"
    }
   },
   "outputs": [
    {
     "data": {
      "text/plain": [
       "array([[2807405.],\n",
       "       [3336026.],\n",
       "       [2807405.],\n",
       "       [3274016.],\n",
       "       [2807405.],\n",
       "       [3208719.]])"
      ]
     },
     "execution_count": 11,
     "metadata": {},
     "output_type": "execute_result"
    }
   ],
   "source": [
    "from sklearn.impute import SimpleImputer\n",
    "import numpy as np\n",
    "imp = SimpleImputer(missing_values=np.nan, strategy=\"most_frequent\") # replace with mode\n",
    "imp.fit_transform(population_w_nans.to_numpy().reshape(-1,1))"
   ]
  },
  {
   "cell_type": "markdown",
   "metadata": {
    "slideshow": {
     "slide_type": "slide"
    }
   },
   "source": [
    "### 3. Imputation"
   ]
  },
  {
   "cell_type": "markdown",
   "metadata": {
    "slideshow": {
     "slide_type": "slide"
    }
   },
   "source": [
    "#### Numeric Imputation"
   ]
  },
  {
   "cell_type": "code",
   "execution_count": 7,
   "metadata": {},
   "outputs": [
    {
     "data": {
      "application/vnd.microsoft.datawrangler.viewer.v0+json": {
       "columns": [
        {
         "name": "index",
         "rawType": "int64",
         "type": "integer"
        },
        {
         "name": "x",
         "rawType": "float64",
         "type": "float"
        },
        {
         "name": "f(x)",
         "rawType": "float64",
         "type": "float"
        }
       ],
       "ref": "5ac5065d-a571-4c40-aeff-c254f89b05a4",
       "rows": [
        [
         "0",
         "-2.546606507816028",
         null
        ],
        [
         "1",
         "-0.6544486122499844",
         null
        ],
        [
         "2",
         "-2.8615703020157923",
         "8.202732542326165"
        ],
        [
         "3",
         "-2.923891092141611",
         "8.5566533779458"
        ],
        [
         "4",
         "-2.359286821426623",
         "5.577279708651996"
        ],
        [
         "5",
         "-2.5076034601247494",
         "6.286049579229357"
        ],
        [
         "6",
         "1.5483573773955372",
         "2.4180553703778354"
        ],
        [
         "7",
         "2.8116743982694556",
         "7.906336981330299"
        ],
        [
         "8",
         "2.3685238906830826",
         "5.589953985332925"
        ],
        [
         "9",
         "-0.6896677284902384",
         null
        ],
        [
         "10",
         "-2.4621430750014173",
         "6.067534914549408"
        ],
        [
         "11",
         "2.4855799795364764",
         "6.184340045380053"
        ],
        [
         "12",
         "0.2848513022110324",
         "0.07069559079155233"
        ],
        [
         "13",
         "2.4377004159310083",
         "5.95176987150201"
        ],
        [
         "14",
         "1.1060780663801593",
         null
        ],
        [
         "15",
         "-1.550686501378819",
         null
        ],
        [
         "16",
         "-0.13258072480459937",
         "0.021984861376112566"
        ],
        [
         "17",
         "2.6767055723921835",
         "7.1651491684216975"
        ],
        [
         "18",
         "-1.4203724018340722",
         "2.024144936059091"
        ],
        [
         "19",
         "2.634731900880446",
         "6.930770197343537"
        ],
        [
         "20",
         "-1.8549963313168791",
         null
        ],
        [
         "21",
         "1.0831406125865524",
         "1.1669621265106325"
        ],
        [
         "22",
         "1.22308416026529",
         null
        ],
        [
         "23",
         "-1.3467546550911822",
         "1.8130070094021362"
        ],
        [
         "24",
         "-1.1297643730180678",
         "1.2664916556185468"
        ],
        [
         "25",
         "1.981266043928966",
         null
        ],
        [
         "26",
         "-0.9621657691678505",
         null
        ],
        [
         "27",
         "0.76585216831793",
         "0.5808447578154152"
        ],
        [
         "28",
         "-0.8204610511049135",
         "0.6791599232492714"
        ],
        [
         "29",
         "1.8871743321360084",
         "3.531338206944539"
        ],
        [
         "30",
         "-2.4325838036865575",
         "5.916083849790017"
        ],
        [
         "31",
         "-2.2843077592424708",
         null
        ],
        [
         "32",
         "0.8109850292507952",
         null
        ],
        [
         "33",
         "1.3564647228952627",
         "1.8542103884256709"
        ],
        [
         "34",
         "-0.48398528444712774",
         "0.24335219140255965"
        ],
        [
         "35",
         "-0.17384802053806103",
         null
        ],
        [
         "36",
         "3.0084891527164555",
         "9.030981431393826"
        ],
        [
         "37",
         "-1.9850256774835418",
         "3.9398647446342654"
        ],
        [
         "38",
         "2.446582498845875",
         "5.97000161646571"
        ],
        [
         "39",
         "-1.2344276210345368",
         null
        ],
        [
         "40",
         "-1.66802396301265",
         "2.810330220346611"
        ],
        [
         "41",
         "2.9146879723294736",
         null
        ],
        [
         "42",
         "-3.06246268652153",
         "9.382218668046688"
        ],
        [
         "43",
         "1.8175877271516976",
         "3.3067055849882667"
        ],
        [
         "44",
         "1.8370087369715051",
         "3.361108248671536"
        ],
        [
         "45",
         "2.7309085908868536",
         null
        ],
        [
         "46",
         "-0.015249559695464932",
         "0.005225599657957776"
        ],
        [
         "47",
         "2.056757569800938",
         null
        ],
        [
         "48",
         "2.004558689097493",
         "4.026062984275642"
        ],
        [
         "49",
         "-1.0334323111385513",
         "1.0505439715637912"
        ]
       ],
       "shape": {
        "columns": 2,
        "rows": 100
       }
      },
      "text/html": [
       "<div>\n",
       "<style scoped>\n",
       "    .dataframe tbody tr th:only-of-type {\n",
       "        vertical-align: middle;\n",
       "    }\n",
       "\n",
       "    .dataframe tbody tr th {\n",
       "        vertical-align: top;\n",
       "    }\n",
       "\n",
       "    .dataframe thead th {\n",
       "        text-align: right;\n",
       "    }\n",
       "</style>\n",
       "<table border=\"1\" class=\"dataframe\">\n",
       "  <thead>\n",
       "    <tr style=\"text-align: right;\">\n",
       "      <th></th>\n",
       "      <th>x</th>\n",
       "      <th>f(x)</th>\n",
       "    </tr>\n",
       "  </thead>\n",
       "  <tbody>\n",
       "    <tr>\n",
       "      <th>0</th>\n",
       "      <td>-2.546607</td>\n",
       "      <td>NaN</td>\n",
       "    </tr>\n",
       "    <tr>\n",
       "      <th>1</th>\n",
       "      <td>-0.654449</td>\n",
       "      <td>NaN</td>\n",
       "    </tr>\n",
       "    <tr>\n",
       "      <th>2</th>\n",
       "      <td>-2.861570</td>\n",
       "      <td>8.202733</td>\n",
       "    </tr>\n",
       "    <tr>\n",
       "      <th>3</th>\n",
       "      <td>-2.923891</td>\n",
       "      <td>8.556653</td>\n",
       "    </tr>\n",
       "    <tr>\n",
       "      <th>4</th>\n",
       "      <td>-2.359287</td>\n",
       "      <td>5.577280</td>\n",
       "    </tr>\n",
       "    <tr>\n",
       "      <th>...</th>\n",
       "      <td>...</td>\n",
       "      <td>...</td>\n",
       "    </tr>\n",
       "    <tr>\n",
       "      <th>95</th>\n",
       "      <td>1.672977</td>\n",
       "      <td>NaN</td>\n",
       "    </tr>\n",
       "    <tr>\n",
       "      <th>96</th>\n",
       "      <td>-3.079112</td>\n",
       "      <td>9.474895</td>\n",
       "    </tr>\n",
       "    <tr>\n",
       "      <th>97</th>\n",
       "      <td>1.745492</td>\n",
       "      <td>3.032480</td>\n",
       "    </tr>\n",
       "    <tr>\n",
       "      <th>98</th>\n",
       "      <td>1.273802</td>\n",
       "      <td>1.607955</td>\n",
       "    </tr>\n",
       "    <tr>\n",
       "      <th>99</th>\n",
       "      <td>-2.663408</td>\n",
       "      <td>7.103385</td>\n",
       "    </tr>\n",
       "  </tbody>\n",
       "</table>\n",
       "<p>100 rows × 2 columns</p>\n",
       "</div>"
      ],
      "text/plain": [
       "           x      f(x)\n",
       "0  -2.546607       NaN\n",
       "1  -0.654449       NaN\n",
       "2  -2.861570  8.202733\n",
       "3  -2.923891  8.556653\n",
       "4  -2.359287  5.577280\n",
       "..       ...       ...\n",
       "95  1.672977       NaN\n",
       "96 -3.079112  9.474895\n",
       "97  1.745492  3.032480\n",
       "98  1.273802  1.607955\n",
       "99 -2.663408  7.103385\n",
       "\n",
       "[100 rows x 2 columns]"
      ]
     },
     "execution_count": 7,
     "metadata": {},
     "output_type": "execute_result"
    }
   ],
   "source": [
    "# Generate a dataset of random points between -pi and pi along with their squares (+ some noise)\n",
    "num_samples = 100\n",
    "numeric_data = np.random.uniform(-np.pi, np.pi, (num_samples,))\n",
    "df = pd.DataFrame({\n",
    "    \"x\": numeric_data,\n",
    "    \"f(x)\": numeric_data ** 2 + np.random.normal(0, .01, (num_samples,)),\n",
    "})\n",
    "# Mask 20% of the values\n",
    "mask = np.random.rand(df.shape[0]) < 0.2\n",
    "df.loc[mask,'f(x)'] = np.nan\n",
    "df"
   ]
  },
  {
   "cell_type": "code",
   "execution_count": 8,
   "metadata": {
    "scrolled": true,
    "slideshow": {
     "slide_type": "slide"
    }
   },
   "outputs": [
    {
     "data": {
      "image/png": "[encoded data removed]",
      "text/plain": [
       "<Figure size 400x400 with 1 Axes>"
      ]
     },
     "metadata": {},
     "output_type": "display_data"
    }
   ],
   "source": [
    "%matplotlib inline\n",
    "import matplotlib.pyplot as plt\n",
    "plt.figure(figsize=[4,4])\n",
    "plt.plot(df['x'],df['f(x)'],'.')\n",
    "plt.ylabel(\"f(x)\")\n",
    "plt.xlabel(\"x\");"
   ]
  },
  {
   "cell_type": "markdown",
   "metadata": {
    "slideshow": {
     "slide_type": "slide"
    }
   },
   "source": [
    "##### ``sklearn`` - RidgeRegression"
   ]
  },
  {
   "cell_type": "code",
   "execution_count": 9,
   "metadata": {
    "slideshow": {
     "slide_type": "fragment"
    }
   },
   "outputs": [
    {
     "data": {
      "image/png": "[encoded data removed]",
      "text/plain": [
       "<Figure size 400x400 with 1 Axes>"
      ]
     },
     "metadata": {},
     "output_type": "display_data"
    }
   ],
   "source": [
    "from sklearn.experimental import enable_iterative_imputer # you need to import this to run the sklearn imputer\n",
    "from sklearn.impute import IterativeImputer\n",
    "\n",
    "imp = IterativeImputer(max_iter=10, random_state=0)\n",
    "X_train = df.loc[mask==0,:].values\n",
    "imp.fit(X_train)\n",
    "\n",
    "X_test = df.loc[mask>0,:].values\n",
    "X_test_imputed = imp.transform(X_test)\n",
    "\n",
    "plt.figure(figsize=[4,4])\n",
    "plt.plot(X_train[:,0], X_train[:,1], 'r.',\n",
    "         X_test_imputed[:,0], X_test_imputed[:,1], 'b.')\n",
    "plt.ylabel(\"f(x)\")\n",
    "plt.xlabel(\"x\")\n",
    "plt.legend(['True', 'Imputed']);"
   ]
  },
  {
   "cell_type": "markdown",
   "metadata": {},
   "source": [
    "**Question**: Why does the model predict a line here?\n",
    "Recall what Ridge Regression and Least Squares are (and also check the sklearn documentation for `IterativeImputer`).\n",
    "\n",
    "Try to modify the code above so that sklearn solves the Least-Squares to fit a parabola, not a straight line."
   ]
  },
  {
   "cell_type": "markdown",
   "metadata": {},
   "source": [
    "##### ``sklearn`` - RandomForest"
   ]
  },
  {
   "cell_type": "code",
   "execution_count": 11,
   "metadata": {
    "scrolled": true,
    "slideshow": {
     "slide_type": "fragment"
    }
   },
   "outputs": [
    {
     "data": {
      "image/png": "[encoded data removed]",
      "text/plain": [
       "<Figure size 400x400 with 1 Axes>"
      ]
     },
     "metadata": {},
     "output_type": "display_data"
    }
   ],
   "source": [
    "from sklearn.ensemble import RandomForestRegressor\n",
    "imp = IterativeImputer(estimator=RandomForestRegressor(),\n",
    "                       max_iter=10, random_state=0)\n",
    "X_train = df.loc[mask==0,:].values\n",
    "imp.fit(X_train)\n",
    "\n",
    "X_test = df.loc[mask>0,:].values\n",
    "X_test_imputed = imp.transform(X_test)\n",
    "\n",
    "plt.figure(figsize=[4,4])\n",
    "plt.plot(X_train[:,0], X_train[:,1], 'r.',\n",
    "         X_test_imputed[:,0], X_test_imputed[:,1],'b.')\n",
    "plt.ylabel(\"f(x)\")\n",
    "plt.xlabel(\"x\")\n",
    "plt.legend(['True', 'Imputed']);"
   ]
  },
  {
   "cell_type": "markdown",
   "metadata": {
    "slideshow": {
     "slide_type": "slide"
    }
   },
   "source": [
    "##### ``sklearn`` - KNN"
   ]
  },
  {
   "cell_type": "code",
   "execution_count": 12,
   "metadata": {
    "scrolled": true,
    "slideshow": {
     "slide_type": "fragment"
    }
   },
   "outputs": [
    {
     "data": {
      "image/png": "[encoded data removed]",
      "text/plain": [
       "<Figure size 400x400 with 1 Axes>"
      ]
     },
     "metadata": {},
     "output_type": "display_data"
    }
   ],
   "source": [
    "from sklearn.impute import KNNImputer\n",
    "imp = KNNImputer()\n",
    "\n",
    "X_train = df.loc[mask==0,:].values\n",
    "imp.fit(X_train)\n",
    "\n",
    "X_test = df.loc[mask>0,:].values\n",
    "X_test_imputed = imp.transform(X_test)\n",
    "\n",
    "plt.figure(figsize=[4,4])\n",
    "plt.plot(X_train[:,0], X_train[:,1], 'r.',\n",
    "         X_test_imputed[:,0], X_test_imputed[:,1],'b.')\n",
    "plt.ylabel(\"f(x)\")\n",
    "plt.xlabel(\"x\");"
   ]
  },
  {
   "cell_type": "markdown",
   "metadata": {},
   "source": [
    "#### Categorical Imputation"
   ]
  },
  {
   "cell_type": "code",
   "execution_count": 19,
   "metadata": {},
   "outputs": [
    {
     "name": "stdout",
     "output_type": "stream",
     "text": [
      "   Color  Color_class  Color_imputed\n",
      "0    Red          2.0            2.0\n",
      "1   Blue          0.0            0.0\n",
      "2    NaN          NaN            0.0\n",
      "3  Green          1.0            1.0\n",
      "4   Blue          0.0            0.0\n",
      "5    NaN          NaN            0.0\n"
     ]
    }
   ],
   "source": [
    "import pandas as pd\n",
    "from sklearn.impute import SimpleImputer\n",
    "\n",
    "# Example data with missing categorical values\n",
    "data = pd.DataFrame({\n",
    "    'Color': ['Red', 'Blue', np.nan, 'Green', 'Blue', np.nan]\n",
    "})\n",
    "\n",
    "# Replace the categorical strings with their class indexes, keeping NaNs as they are\n",
    "data['Color_class'] = data['Color'].astype('category').cat.codes.replace(-1, np.nan)\n",
    "\n",
    "imputer = SimpleImputer(missing_values=np.nan, strategy='most_frequent')\n",
    "\n",
    "# Fit and transform the data\n",
    "data['Color_imputed'] = imputer.fit_transform(data[['Color_class']])\n",
    "\n",
    "print(data)"
   ]
  },
  {
   "cell_type": "markdown",
   "metadata": {},
   "source": [
    "Sometimes, missing values can and should be imputed in accordance with fixed rules defined beforehand by domain experts. Otherwise, we run the risk of introducing non-realistic/OOD data points to our cleaned dataset.\n",
    "\n",
    "See an example [here](https://github.com/calgo-lab/BGR/blob/00406bb2bfa4839fa00087474636e1b5b6781e39/bgr/soil/data/horizon_tabular_data.py#L245) for imputing categoricals in sequentially structured soil data."
   ]
  },
  {
   "cell_type": "markdown",
   "metadata": {
    "slideshow": {
     "slide_type": "slide"
    }
   },
   "source": [
    "## String Deduplication / Normalization\n",
    "\n",
    "- Often cleaning involves removal of duplicates or typos\n",
    "- Some typos can be easily removed by replacing them with similar but more frequent strings"
   ]
  },
  {
   "cell_type": "code",
   "execution_count": 27,
   "metadata": {
    "slideshow": {
     "slide_type": "fragment"
    }
   },
   "outputs": [
    {
     "data": {
      "text/plain": [
       "array(['year', 'yera', 'years', 'yeasr', 'yeras', 'yersa'], dtype=object)"
      ]
     },
     "execution_count": 27,
     "metadata": {},
     "output_type": "execute_result"
    }
   ],
   "source": [
    "s = pd.read_csv(\"misspelled_words_simulated.txt\", names=['word'])['word']\n",
    "s[s.str.startswith('ye')].unique()"
   ]
  },
  {
   "cell_type": "markdown",
   "metadata": {},
   "source": [
    "How should we check if a word is misspelled?"
   ]
  },
  {
   "cell_type": "code",
   "execution_count": 28,
   "metadata": {
    "slideshow": {
     "slide_type": "slide"
    }
   },
   "outputs": [
    {
     "data": {
      "text/plain": [
       "Index(['fiels', 'mear', 'councellors', 'boaut', 'buring', 'gae', 'councellor',\n",
       "       'fiel', 'alot', 'sould', 'leanr', 'cervial', 'restraunt', 'alusion',\n",
       "       'diea', 'relized', 'noone', 'beggin', 'unsed', 'neigbour',\n",
       "       'phenomenonly', 'behavour', 'withdrawl', 'neice', 'coorperation',\n",
       "       'idesa', 'anual', 'ethose', 'manouver', 'sheat', 'lible', 'empirial',\n",
       "       'achived', 'surrended', 'fleed', 'achive', 'medeival', 'orginal',\n",
       "       'wether', 'lief', 'iminent', 'imanent', 'lonly', 'archeaologist',\n",
       "       'dieing', 'maked', 'imigrant', 'specif', 'haev', 'addres'],\n",
       "      dtype='object', name='word')"
      ]
     },
     "execution_count": 28,
     "metadata": {},
     "output_type": "execute_result"
    }
   ],
   "source": [
    "word_counts = s.value_counts()\n",
    "correct_words = word_counts[word_counts >= 10].index\n",
    "misspelled_words = word_counts[word_counts < 10].index\n",
    "misspelled_words[:50]"
   ]
  },
  {
   "cell_type": "code",
   "execution_count": null,
   "metadata": {
    "slideshow": {
     "slide_type": "slide"
    }
   },
   "outputs": [],
   "source": [
    "from sklearn.feature_extraction.text import HashingVectorizer\n",
    "import numpy as np\n",
    "\n",
    "# Compute hashed character ngram counts\n",
    "vect = HashingVectorizer(analyzer='char_wb', ngram_range=(1,5), n_features=2**20, binary=True)\n",
    "correct_words_ngrams = vect.transform(correct_words)\n",
    "misspelled_words_ngrams = vect.transform(misspelled_words)\n",
    "\n",
    "# Compute string similarity between correct and misspelled words\n",
    "similarity = correct_words_ngrams.dot(misspelled_words_ngrams.T)"
   ]
  },
  {
   "cell_type": "code",
   "execution_count": 36,
   "metadata": {
    "scrolled": true,
    "slideshow": {
     "slide_type": "fragment"
    }
   },
   "outputs": [
    {
     "data": {
      "text/plain": [
       "[('fiels', 'fields'),\n",
       " ('mear', 'year'),\n",
       " ('councellors', 'counsellors'),\n",
       " ('boaut', 'boat'),\n",
       " ('buring', 'burin'),\n",
       " ('gae', 'Gael'),\n",
       " ('councellor', 'counsellor'),\n",
       " ('fiel', 'field'),\n",
       " ('alot', 'allot'),\n",
       " ('sould', 'should'),\n",
       " ('leanr', 'lean'),\n",
       " ('cervial', 'cervical'),\n",
       " ('restraunt', 'restraint'),\n",
       " ('alusion', 'allusion'),\n",
       " ('diea', 'die'),\n",
       " ('relized', 'realized'),\n",
       " ('noone', 'one'),\n",
       " ('beggin', 'begging'),\n",
       " ('unsed', 'unused'),\n",
       " ('neigbour', 'neighbour')]"
      ]
     },
     "execution_count": 36,
     "metadata": {},
     "output_type": "execute_result"
    }
   ],
   "source": [
    "# Find most similar correct word for each misspelled word\n",
    "most_similar_correct_word = similarity.toarray().argsort(axis=0)[-1,:]\n",
    "corrections = [(word,correct_words[most_similar_correct_word[idx]]) for idx, word in enumerate(misspelled_words)]\n",
    "corrections[:20]"
   ]
  },
  {
   "cell_type": "code",
   "execution_count": null,
   "metadata": {
    "scrolled": true,
    "slideshow": {
     "slide_type": "slide"
    }
   },
   "outputs": [],
   "source": [
    "# Replace misspelled values in pandas Series with corrected ones\n",
    "to_replace, replacement = zip(*corrections)\n",
    "s = s.replace(to_replace, replacement)"
   ]
  },
  {
   "cell_type": "markdown",
   "metadata": {},
   "source": [
    "Other times, by 'cleaning' people mean 'simplifying' the problem their model is supposed to solve. \n",
    "\n",
    "Example: reducing the complexity of label spaces via e.g. clustering.\n",
    "\n",
    "See one example for [clustering soil colors](https://github.com/calgo-lab/BGR/blob/00406bb2bfa4839fa00087474636e1b5b6781e39/bgr/soil/data/horizon_tabular_data.py#L511)\n",
    "\n",
    "and one example for [clustering soil horizon classes](https://github.com/calgo-lab/BGR/blob/00406bb2bfa4839fa00087474636e1b5b6781e39/bgr/soil/data/horizon_tabular_data.py#L332) through string similarities computed with the Levenshtein distance."
   ]
  },
  {
   "cell_type": "markdown",
   "metadata": {
    "slideshow": {
     "slide_type": "slide"
    }
   },
   "source": [
    "## Anomaly Detection\n",
    "\n",
    "* Anomaly detection is an important task, but very difficult.\n",
    "* We usually don't know what is normal/anomalous.\n",
    "* If we have examples of anomalies, they are usually *very rare*.\n",
    "* For evaluation, we can use *classification metrics* but we need labels for that.\n",
    "\n",
    "There are great libraries for anomaly detection:\n",
    "* [scikit-learn anomaly detection demo](https://scikit-learn.org/stable/auto_examples/miscellaneous/plot_anomaly_comparison.html)\n",
    "* [pyOD](https://github.com/yzhao062/pyod#quick-start-for-outlier-detection)"
   ]
  },
  {
   "cell_type": "markdown",
   "metadata": {
    "slideshow": {
     "slide_type": "slide"
    }
   },
   "source": [
    "### Simple Univariate Example\n",
    "\n",
    "Consider univariate data $x\\in R^1$ drawn from a normal distribution $\\mathcal{N}(\\mu,\\sigma^2)$."
   ]
  },
  {
   "cell_type": "code",
   "execution_count": 21,
   "metadata": {
    "slideshow": {
     "slide_type": "fragment"
    }
   },
   "outputs": [
    {
     "data": {
      "image/png": "[encoded data removed]",
      "text/plain": [
       "<Figure size 640x480 with 1 Axes>"
      ]
     },
     "metadata": {},
     "output_type": "display_data"
    }
   ],
   "source": [
    "mu = 2\n",
    "sigma = 3\n",
    "x = np.random.randn(1000) * sigma + mu\n",
    "\n",
    "plt.hist(x, bins=100);"
   ]
  },
  {
   "cell_type": "markdown",
   "metadata": {
    "slideshow": {
     "slide_type": "slide"
    }
   },
   "source": [
    "**What's an anomalous data point?**\n",
    "\n",
    "The likelihood of each sample under this distribution is given by \n",
    "\n",
    "$p(x) = {\\frac {1}{\\sigma {\\sqrt {2\\pi }}}}e^{-{\\frac {1}{2}}\\left({\\frac {x-\\mu }{\\sigma }}\\right)^{2}}$\n",
    "\n",
    "So you can compute the likelihood of any given data point as:"
   ]
  },
  {
   "cell_type": "code",
   "execution_count": 22,
   "metadata": {
    "slideshow": {
     "slide_type": "fragment"
    }
   },
   "outputs": [
    {
     "name": "stdout",
     "output_type": "stream",
     "text": [
      "0.1329807601338109\n",
      "0.1329807601338109\n"
     ]
    }
   ],
   "source": [
    "def gauss_likelihood(x, mu, sigma):\n",
    "    '''\n",
    "    Computes the likelihood of x assuming x is from a \n",
    "    normal distribution with mean mu and standard deviation sigma\n",
    "    '''\n",
    "    denom = (np.sqrt(2.*np.pi)*sigma)\n",
    "    num = np.exp(-.5*((x - mu) / sigma)**2)\n",
    "    return num/denom\n",
    "\n",
    "print(gauss_likelihood(2., mu,sigma))\n",
    "\n",
    "# alternatively you can use the scipy.stats package\n",
    "from scipy.stats import norm\n",
    "my_gauss = norm(mu, sigma)\n",
    "print(my_gauss.pdf(2))"
   ]
  },
  {
   "cell_type": "markdown",
   "metadata": {
    "slideshow": {
     "slide_type": "slide"
    }
   },
   "source": [
    "**Defining Anomaly**\n",
    "\n",
    "Given a data point and a (not necessarily generative) model of your data, you can define a threshold for *what's an anomaly*. \n",
    "\n",
    "For instance, a common threshold is to assume that data points for which $p(x)< 0.05$ or $p(x)< 0.01$ are anomalous.  "
   ]
  },
  {
   "cell_type": "code",
   "execution_count": 24,
   "metadata": {
    "slideshow": {
     "slide_type": "fragment"
    }
   },
   "outputs": [
    {
     "data": {
      "image/png": "[encoded data removed]",
      "text/plain": [
       "<Figure size 640x480 with 1 Axes>"
      ]
     },
     "metadata": {},
     "output_type": "display_data"
    }
   ],
   "source": [
    "steps = np.arange(-10,100)\n",
    "plt.plot(x, gauss_likelihood(x,mu,sigma),'.');\n",
    "plt.plot([-7.5,12.5],[.05,.05],'r--')\n",
    "plt.plot([-7.5,12.5],[.01,.01],'k--')\n",
    "plt.legend(['p(x)','0.05','0.01']);"
   ]
  },
  {
   "cell_type": "markdown",
   "metadata": {
    "slideshow": {
     "slide_type": "slide"
    }
   },
   "source": [
    "### Two more Sophisticated Examples\n",
    "\n",
    "* Simple Parametric Approach: Assuming Gaussian Data\n",
    "* Advanced Non-parametric: Isolation Forest\n",
    "\n",
    "Example taken from an [sklearn tutorial](https://scikit-learn.org/stable/auto_examples/miscellaneous/plot_anomaly_comparison.html)"
   ]
  },
  {
   "cell_type": "code",
   "execution_count": 25,
   "metadata": {
    "slideshow": {
     "slide_type": "slide"
    }
   },
   "outputs": [],
   "source": [
    "from sklearn.datasets import make_moons, make_blobs\n",
    "from sklearn.covariance import EllipticEnvelope\n",
    "from sklearn.ensemble import IsolationForest\n",
    "\n",
    "plt.rcParams['contour.negative_linestyle'] = 'solid'\n",
    "plt.rcParams['figure.figsize'] = [5, 5]\n",
    "\n",
    "n_samples = 300\n",
    "outliers_fraction = 0.15\n",
    "n_outliers = int(outliers_fraction * n_samples)\n",
    "n_inliers = n_samples - n_outliers\n",
    "\n",
    "anomaly_algorithms = [\n",
    "    (\"Robust covariance\", EllipticEnvelope(contamination=outliers_fraction)),\n",
    "    (\"Isolation Forest\", IsolationForest(contamination=outliers_fraction,\n",
    "                                         random_state=42))]\n",
    "\n",
    "# Define datasets\n",
    "blobs_params = dict(random_state=0, n_samples=n_inliers, n_features=2)\n",
    "datasets = [\n",
    "    make_blobs(centers=[[0, 0], [0, 0]], cluster_std=0.5,\n",
    "               **blobs_params)[0],\n",
    "    make_blobs(centers=[[2, 2], [-2, -2]], cluster_std=[0.5, 0.5],\n",
    "               **blobs_params)[0],\n",
    "    4. * (make_moons(n_samples=n_samples, noise=.05, random_state=0)[0] -\n",
    "          np.array([0.5, 0.25]))]\n",
    "\n",
    "# Compare given classifiers under given settings\n",
    "xx, yy = np.meshgrid(np.linspace(-7, 7, 150),\n",
    "                     np.linspace(-7, 7, 150))\n",
    "\n",
    "plot_num = 1\n",
    "rng = np.random.RandomState(42)"
   ]
  },
  {
   "cell_type": "code",
   "execution_count": 26,
   "metadata": {
    "scrolled": true,
    "slideshow": {
     "slide_type": "slide"
    }
   },
   "outputs": [
    {
     "data": {
      "image/png": "[encoded data removed]",
      "text/plain": [
       "<Figure size 500x500 with 6 Axes>"
      ]
     },
     "metadata": {},
     "output_type": "display_data"
    }
   ],
   "source": [
    "for i_dataset, X in enumerate(datasets):\n",
    "    # Add outliers\n",
    "    X = np.concatenate([X, rng.uniform(low=-6, high=6,\n",
    "                       size=(n_outliers, 2))], axis=0)\n",
    "\n",
    "    for name, algorithm in anomaly_algorithms:\n",
    "\n",
    "        plt.subplot(len(datasets), len(anomaly_algorithms), plot_num)\n",
    "        if i_dataset == 0:\n",
    "            plt.title(name, size=12)\n",
    "\n",
    "        y_pred = algorithm.fit(X).predict(X)\n",
    "\n",
    "        # plot the levels lines and the points\n",
    "        Z = algorithm.predict(np.c_[xx.ravel(), yy.ravel()])\n",
    "        Z = Z.reshape(xx.shape)\n",
    "        plt.contour(xx, yy, Z, levels=[0], linewidths=2, colors='black')\n",
    "\n",
    "        colors = np.array(['#377eb8', '#ff7f00'])\n",
    "        plt.scatter(X[:, 0], X[:, 1], s=10, color=colors[(y_pred + 1) // 2])\n",
    "\n",
    "        plt.xlim(-7, 7)\n",
    "        plt.ylim(-7, 7)\n",
    "        plt.xticks(())\n",
    "        plt.yticks(())\n",
    "        plot_num += 1\n",
    "        \n",
    "plt.show()"
   ]
  }
 ],
 "metadata": {
  "celltoolbar": "Slideshow",
  "kernelspec": {
   "display_name": ".venv",
   "language": "python",
   "name": "python3"
  },
  "language_info": {
   "codemirror_mode": {
    "name": "ipython",
    "version": 3
   },
   "file_extension": ".py",
   "mimetype": "text/x-python",
   "name": "python",
   "nbconvert_exporter": "python",
   "pygments_lexer": "ipython3",
   "version": "3.11.9"
  }
 },
 "nbformat": 4,
 "nbformat_minor": 2
}
