{
 "cells": [
  {
   "cell_type": "markdown",
   "metadata": {
    "slideshow": {
     "slide_type": "slide"
    }
   },
   "source": [
    "# Data Acquisition\n",
    "\n",
    "**Note**: To run notebooks on the cluster, you will need the Jupyter extension in VSCode and also the *ipykernel* library from the *requirements.txt* in Lecture_1."
   ]
  },
  {
   "cell_type": "markdown",
   "metadata": {
    "slideshow": {
     "slide_type": "slide"
    }
   },
   "source": [
    "## Public Data APIs\n",
    "\n",
    "Often data for a given task can be found in public data sources, such as:\n",
    "\n",
    "- https://daten.berlin.de/\n",
    "- https://www.kaggle.com/datasets\n",
    "- https://datasetsearch.research.google.com/\n",
    "\n",
    "Easy to download directly."
   ]
  },
  {
   "cell_type": "markdown",
   "metadata": {
    "slideshow": {
     "slide_type": "slide"
    }
   },
   "source": [
    "## Public ML Data Sets: OpenML\n",
    "\n",
    "Joaquin Vanschoren set up https://www.openml.org/\n",
    "- over 20,000 data sets\n",
    "- there are tasks, like on kaggle, but it's open\n",
    "- useful API\n",
    "- great for testing models on variety of data sets"
   ]
  },
  {
   "cell_type": "code",
   "execution_count": null,
   "metadata": {},
   "outputs": [
    {
     "name": "stdout",
     "output_type": "stream",
     "text": [
      "Requirement already satisfied: beautifulsoup4 in /storage/courses/.venv/lib/python3.11/site-packages (from -r ../requirements.txt (line 1)) (4.13.4)\n",
      "Requirement already satisfied: scikit-learn in /storage/courses/.venv/lib/python3.11/site-packages (from -r ../requirements.txt (line 2)) (1.6.1)\n",
      "Requirement already satisfied: pandas in /storage/courses/.venv/lib/python3.11/site-packages (from -r ../requirements.txt (line 3)) (2.3.0)\n",
      "Requirement already satisfied: requests in /storage/courses/.venv/lib/python3.11/site-packages (from -r ../requirements.txt (line 5)) (2.32.3)\n",
      "Requirement already satisfied: newspaper3k in /storage/courses/.venv/lib/python3.11/site-packages (from -r ../requirements.txt (line 6)) (0.2.8)\n",
      "Requirement already satisfied: gdown in /storage/courses/.venv/lib/python3.11/site-packages (from -r ../requirements.txt (line 7)) (5.2.0)\n",
      "Requirement already satisfied: lxml[html_clean] in /storage/courses/.venv/lib/python3.11/site-packages (from -r ../requirements.txt (line 4)) (5.4.0)\n",
      "Requirement already satisfied: soupsieve>1.2 in /storage/courses/.venv/lib/python3.11/site-packages (from beautifulsoup4->-r ../requirements.txt (line 1)) (2.7)\n",
      "Requirement already satisfied: typing-extensions>=4.0.0 in /storage/courses/.venv/lib/python3.11/site-packages (from beautifulsoup4->-r ../requirements.txt (line 1)) (4.14.0)\n",
      "Requirement already satisfied: numpy>=1.19.5 in /storage/courses/.venv/lib/python3.11/site-packages (from scikit-learn->-r ../requirements.txt (line 2)) (2.2.6)\n",
      "Requirement already satisfied: scipy>=1.6.0 in /storage/courses/.venv/lib/python3.11/site-packages (from scikit-learn->-r ../requirements.txt (line 2)) (1.15.3)\n",
      "Requirement already satisfied: joblib>=1.2.0 in /storage/courses/.venv/lib/python3.11/site-packages (from scikit-learn->-r ../requirements.txt (line 2)) (1.5.1)\n",
      "Requirement already satisfied: threadpoolctl>=3.1.0 in /storage/courses/.venv/lib/python3.11/site-packages (from scikit-learn->-r ../requirements.txt (line 2)) (3.6.0)\n",
      "Requirement already satisfied: python-dateutil>=2.8.2 in /storage/courses/.venv/lib/python3.11/site-packages (from pandas->-r ../requirements.txt (line 3)) (2.9.0.post0)\n",
      "Requirement already satisfied: pytz>=2020.1 in /storage/courses/.venv/lib/python3.11/site-packages (from pandas->-r ../requirements.txt (line 3)) (2025.2)\n",
      "Requirement already satisfied: tzdata>=2022.7 in /storage/courses/.venv/lib/python3.11/site-packages (from pandas->-r ../requirements.txt (line 3)) (2025.2)\n",
      "Requirement already satisfied: lxml_html_clean in /storage/courses/.venv/lib/python3.11/site-packages (from lxml[html_clean]->-r ../requirements.txt (line 4)) (0.4.2)\n",
      "Requirement already satisfied: charset-normalizer<4,>=2 in /storage/courses/.venv/lib/python3.11/site-packages (from requests->-r ../requirements.txt (line 5)) (3.4.2)\n",
      "Requirement already satisfied: idna<4,>=2.5 in /storage/courses/.venv/lib/python3.11/site-packages (from requests->-r ../requirements.txt (line 5)) (3.10)\n",
      "Requirement already satisfied: urllib3<3,>=1.21.1 in /storage/courses/.venv/lib/python3.11/site-packages (from requests->-r ../requirements.txt (line 5)) (2.4.0)\n",
      "Requirement already satisfied: certifi>=2017.4.17 in /storage/courses/.venv/lib/python3.11/site-packages (from requests->-r ../requirements.txt (line 5)) (2025.4.26)\n",
      "Requirement already satisfied: Pillow>=3.3.0 in /storage/courses/.venv/lib/python3.11/site-packages (from newspaper3k->-r ../requirements.txt (line 6)) (11.2.1)\n",
      "Requirement already satisfied: PyYAML>=3.11 in /storage/courses/.venv/lib/python3.11/site-packages (from newspaper3k->-r ../requirements.txt (line 6)) (6.0.2)\n",
      "Requirement already satisfied: cssselect>=0.9.2 in /storage/courses/.venv/lib/python3.11/site-packages (from newspaper3k->-r ../requirements.txt (line 6)) (1.3.0)\n",
      "Requirement already satisfied: nltk>=3.2.1 in /storage/courses/.venv/lib/python3.11/site-packages (from newspaper3k->-r ../requirements.txt (line 6)) (3.9.1)\n",
      "Requirement already satisfied: feedparser>=5.2.1 in /storage/courses/.venv/lib/python3.11/site-packages (from newspaper3k->-r ../requirements.txt (line 6)) (6.0.11)\n",
      "Requirement already satisfied: tldextract>=2.0.1 in /storage/courses/.venv/lib/python3.11/site-packages (from newspaper3k->-r ../requirements.txt (line 6)) (5.3.0)\n",
      "Requirement already satisfied: feedfinder2>=0.0.4 in /storage/courses/.venv/lib/python3.11/site-packages (from newspaper3k->-r ../requirements.txt (line 6)) (0.0.4)\n",
      "Requirement already satisfied: jieba3k>=0.35.1 in /storage/courses/.venv/lib/python3.11/site-packages (from newspaper3k->-r ../requirements.txt (line 6)) (0.35.1)\n",
      "Requirement already satisfied: tinysegmenter==0.3 in /storage/courses/.venv/lib/python3.11/site-packages (from newspaper3k->-r ../requirements.txt (line 6)) (0.3)\n",
      "Requirement already satisfied: filelock in /storage/courses/.venv/lib/python3.11/site-packages (from gdown->-r ../requirements.txt (line 7)) (3.18.0)\n",
      "Requirement already satisfied: tqdm in /storage/courses/.venv/lib/python3.11/site-packages (from gdown->-r ../requirements.txt (line 7)) (4.67.1)\n",
      "Requirement already satisfied: six in /storage/courses/.venv/lib/python3.11/site-packages (from feedfinder2>=0.0.4->newspaper3k->-r ../requirements.txt (line 6)) (1.17.0)\n",
      "Requirement already satisfied: sgmllib3k in /storage/courses/.venv/lib/python3.11/site-packages (from feedparser>=5.2.1->newspaper3k->-r ../requirements.txt (line 6)) (1.0.0)\n",
      "Requirement already satisfied: click in /storage/courses/.venv/lib/python3.11/site-packages (from nltk>=3.2.1->newspaper3k->-r ../requirements.txt (line 6)) (8.2.1)\n",
      "Requirement already satisfied: regex>=2021.8.3 in /storage/courses/.venv/lib/python3.11/site-packages (from nltk>=3.2.1->newspaper3k->-r ../requirements.txt (line 6)) (2024.11.6)\n",
      "Requirement already satisfied: requests-file>=1.4 in /storage/courses/.venv/lib/python3.11/site-packages (from tldextract>=2.0.1->newspaper3k->-r ../requirements.txt (line 6)) (2.1.0)\n",
      "Requirement already satisfied: PySocks!=1.5.7,>=1.5.6 in /storage/courses/.venv/lib/python3.11/site-packages (from requests[socks]->gdown->-r ../requirements.txt (line 7)) (1.7.1)\n"
     ]
    }
   ],
   "source": [
    "!pip install -r ../requirements.txt # Install dependencies in your .venv\n",
    "                                    # Since .venv is inside your persistent volume (/storage/courses/), you only need to install the libraries once.\n",
    "                                    # Note: restart the kernel after installing the libraries. Click on Restart above."
   ]
  },
  {
   "cell_type": "code",
   "execution_count": 1,
   "metadata": {
    "slideshow": {
     "slide_type": "skip"
    }
   },
   "outputs": [],
   "source": [
    "import pandas as pd\n",
    "import urllib\n",
    "import os\n",
    "import requests\n",
    "import matplotlib.pyplot as plt\n",
    "import warnings"
   ]
  },
  {
   "cell_type": "code",
   "execution_count": 3,
   "metadata": {
    "slideshow": {
     "slide_type": "fragment"
    }
   },
   "outputs": [
    {
     "name": "stderr",
     "output_type": "stream",
     "text": [
      "/storage/courses/.venv/lib/python3.11/site-packages/sklearn/datasets/_openml.py:323: UserWarning: Multiple active versions of the dataset matching the name titanic exist. Versions may be fundamentally different, returning version 2. Available versions:\n",
      "- version 2, status: active\n",
      "  url: https://www.openml.org/search?type=data&id=40704\n",
      "- version 1, status: active\n",
      "  url: https://www.openml.org/search?type=data&id=40945\n",
      "\n",
      "  warn(warning_msg)\n"
     ]
    },
    {
     "data": {
      "application/vnd.microsoft.datawrangler.viewer.v0+json": {
       "columns": [
        {
         "name": "index",
         "rawType": "int64",
         "type": "integer"
        },
        {
         "name": "Class",
         "rawType": "float64",
         "type": "float"
        },
        {
         "name": "Age",
         "rawType": "float64",
         "type": "float"
        },
        {
         "name": "Sex",
         "rawType": "float64",
         "type": "float"
        }
       ],
       "ref": "dd728231-da93-4760-9a93-eb7bc569f206",
       "rows": [
        [
         "0",
         "-1.87",
         "-0.228",
         "0.521"
        ],
        [
         "1",
         "-0.923",
         "-0.228",
         "-1.92"
        ],
        [
         "2",
         "-0.923",
         "-0.228",
         "-1.92"
        ],
        [
         "3",
         "0.965",
         "-0.228",
         "0.521"
        ],
        [
         "4",
         "0.0214",
         "-0.228",
         "0.521"
        ],
        [
         "5",
         "0.965",
         "-0.228",
         "0.521"
        ],
        [
         "6",
         "0.0214",
         "-0.228",
         "-1.92"
        ],
        [
         "7",
         "0.0214",
         "-0.228",
         "0.521"
        ],
        [
         "8",
         "-1.87",
         "4.38",
         "0.521"
        ],
        [
         "9",
         "0.965",
         "-0.228",
         "0.521"
        ],
        [
         "10",
         "-1.87",
         "-0.228",
         "0.521"
        ],
        [
         "11",
         "0.0214",
         "-0.228",
         "-1.92"
        ],
        [
         "12",
         "0.965",
         "-0.228",
         "0.521"
        ],
        [
         "13",
         "0.0214",
         "-0.228",
         "0.521"
        ],
        [
         "14",
         "0.0214",
         "4.38",
         "0.521"
        ],
        [
         "15",
         "0.965",
         "-0.228",
         "-1.92"
        ],
        [
         "16",
         "-0.923",
         "-0.228",
         "-1.92"
        ],
        [
         "17",
         "-0.923",
         "-0.228",
         "0.521"
        ],
        [
         "18",
         "0.0214",
         "-0.228",
         "0.521"
        ],
        [
         "19",
         "0.965",
         "-0.228",
         "0.521"
        ],
        [
         "20",
         "0.965",
         "-0.228",
         "0.521"
        ],
        [
         "21",
         "-1.87",
         "-0.228",
         "-1.92"
        ],
        [
         "22",
         "-0.923",
         "-0.228",
         "-1.92"
        ],
        [
         "23",
         "0.965",
         "-0.228",
         "0.521"
        ],
        [
         "24",
         "0.965",
         "-0.228",
         "0.521"
        ],
        [
         "25",
         "0.0214",
         "4.38",
         "-1.92"
        ],
        [
         "26",
         "0.0214",
         "-0.228",
         "0.521"
        ],
        [
         "27",
         "0.0214",
         "-0.228",
         "0.521"
        ],
        [
         "28",
         "0.965",
         "-0.228",
         "0.521"
        ],
        [
         "29",
         "0.0214",
         "-0.228",
         "0.521"
        ],
        [
         "30",
         "-0.923",
         "-0.228",
         "-1.92"
        ],
        [
         "31",
         "-0.923",
         "-0.228",
         "0.521"
        ],
        [
         "32",
         "0.965",
         "-0.228",
         "0.521"
        ],
        [
         "33",
         "0.0214",
         "-0.228",
         "-1.92"
        ],
        [
         "34",
         "-0.923",
         "-0.228",
         "0.521"
        ],
        [
         "35",
         "-0.923",
         "-0.228",
         "-1.92"
        ],
        [
         "36",
         "0.965",
         "-0.228",
         "0.521"
        ],
        [
         "37",
         "0.965",
         "-0.228",
         "0.521"
        ],
        [
         "38",
         "0.965",
         "-0.228",
         "0.521"
        ],
        [
         "39",
         "-0.923",
         "-0.228",
         "0.521"
        ],
        [
         "40",
         "0.965",
         "-0.228",
         "0.521"
        ],
        [
         "41",
         "0.965",
         "-0.228",
         "0.521"
        ],
        [
         "42",
         "-0.923",
         "-0.228",
         "-1.92"
        ],
        [
         "43",
         "0.0214",
         "-0.228",
         "0.521"
        ],
        [
         "44",
         "0.965",
         "-0.228",
         "0.521"
        ],
        [
         "45",
         "0.965",
         "-0.228",
         "0.521"
        ],
        [
         "46",
         "0.0214",
         "-0.228",
         "0.521"
        ],
        [
         "47",
         "0.965",
         "-0.228",
         "0.521"
        ],
        [
         "48",
         "0.965",
         "-0.228",
         "0.521"
        ],
        [
         "49",
         "0.0214",
         "-0.228",
         "0.521"
        ]
       ],
       "shape": {
        "columns": 3,
        "rows": 2201
       }
      },
      "text/html": [
       "<div>\n",
       "<style scoped>\n",
       "    .dataframe tbody tr th:only-of-type {\n",
       "        vertical-align: middle;\n",
       "    }\n",
       "\n",
       "    .dataframe tbody tr th {\n",
       "        vertical-align: top;\n",
       "    }\n",
       "\n",
       "    .dataframe thead th {\n",
       "        text-align: right;\n",
       "    }\n",
       "</style>\n",
       "<table border=\"1\" class=\"dataframe\">\n",
       "  <thead>\n",
       "    <tr style=\"text-align: right;\">\n",
       "      <th></th>\n",
       "      <th>Class</th>\n",
       "      <th>Age</th>\n",
       "      <th>Sex</th>\n",
       "    </tr>\n",
       "  </thead>\n",
       "  <tbody>\n",
       "    <tr>\n",
       "      <th>0</th>\n",
       "      <td>-1.8700</td>\n",
       "      <td>-0.228</td>\n",
       "      <td>0.521</td>\n",
       "    </tr>\n",
       "    <tr>\n",
       "      <th>1</th>\n",
       "      <td>-0.9230</td>\n",
       "      <td>-0.228</td>\n",
       "      <td>-1.920</td>\n",
       "    </tr>\n",
       "    <tr>\n",
       "      <th>2</th>\n",
       "      <td>-0.9230</td>\n",
       "      <td>-0.228</td>\n",
       "      <td>-1.920</td>\n",
       "    </tr>\n",
       "    <tr>\n",
       "      <th>3</th>\n",
       "      <td>0.9650</td>\n",
       "      <td>-0.228</td>\n",
       "      <td>0.521</td>\n",
       "    </tr>\n",
       "    <tr>\n",
       "      <th>4</th>\n",
       "      <td>0.0214</td>\n",
       "      <td>-0.228</td>\n",
       "      <td>0.521</td>\n",
       "    </tr>\n",
       "    <tr>\n",
       "      <th>...</th>\n",
       "      <td>...</td>\n",
       "      <td>...</td>\n",
       "      <td>...</td>\n",
       "    </tr>\n",
       "    <tr>\n",
       "      <th>2196</th>\n",
       "      <td>0.9650</td>\n",
       "      <td>-0.228</td>\n",
       "      <td>0.521</td>\n",
       "    </tr>\n",
       "    <tr>\n",
       "      <th>2197</th>\n",
       "      <td>-0.9230</td>\n",
       "      <td>-0.228</td>\n",
       "      <td>0.521</td>\n",
       "    </tr>\n",
       "    <tr>\n",
       "      <th>2198</th>\n",
       "      <td>-1.8700</td>\n",
       "      <td>-0.228</td>\n",
       "      <td>0.521</td>\n",
       "    </tr>\n",
       "    <tr>\n",
       "      <th>2199</th>\n",
       "      <td>0.9650</td>\n",
       "      <td>-0.228</td>\n",
       "      <td>0.521</td>\n",
       "    </tr>\n",
       "    <tr>\n",
       "      <th>2200</th>\n",
       "      <td>-0.9230</td>\n",
       "      <td>-0.228</td>\n",
       "      <td>-1.920</td>\n",
       "    </tr>\n",
       "  </tbody>\n",
       "</table>\n",
       "<p>2201 rows × 3 columns</p>\n",
       "</div>"
      ],
      "text/plain": [
       "       Class    Age    Sex\n",
       "0    -1.8700 -0.228  0.521\n",
       "1    -0.9230 -0.228 -1.920\n",
       "2    -0.9230 -0.228 -1.920\n",
       "3     0.9650 -0.228  0.521\n",
       "4     0.0214 -0.228  0.521\n",
       "...      ...    ...    ...\n",
       "2196  0.9650 -0.228  0.521\n",
       "2197 -0.9230 -0.228  0.521\n",
       "2198 -1.8700 -0.228  0.521\n",
       "2199  0.9650 -0.228  0.521\n",
       "2200 -0.9230 -0.228 -1.920\n",
       "\n",
       "[2201 rows x 3 columns]"
      ]
     },
     "execution_count": 3,
     "metadata": {},
     "output_type": "execute_result"
    }
   ],
   "source": [
    "from sklearn.datasets import fetch_openml\n",
    "X, y = fetch_openml(\"titanic\", as_frame=True, return_X_y=True)\n",
    "X"
   ]
  },
  {
   "cell_type": "markdown",
   "metadata": {
    "slideshow": {
     "slide_type": "slide"
    }
   },
   "source": [
    "## Getting Data through Python libraries\n",
    "\n",
    "There are python libraries for all kinds of APIs and data source. \n",
    "\n",
    "Here we just look at one for [newspapers](https://github.com/codelucas/newspaper)"
   ]
  },
  {
   "cell_type": "code",
   "execution_count": 2,
   "metadata": {
    "slideshow": {
     "slide_type": "fragment"
    }
   },
   "outputs": [],
   "source": [
    "from newspaper import Article\n",
    "article = Article('https://www.sueddeutsche.de/politik/demonstrationen-rassismus-pandemie-1.4936008')\n",
    "article.download()\n",
    "article.parse()"
   ]
  },
  {
   "cell_type": "markdown",
   "metadata": {
    "slideshow": {
     "slide_type": "slide"
    }
   },
   "source": [
    "With a language independent interface, we can now extract things like title, authors or text"
   ]
  },
  {
   "cell_type": "code",
   "execution_count": 3,
   "metadata": {
    "slideshow": {
     "slide_type": "fragment"
    }
   },
   "outputs": [
    {
     "data": {
      "text/plain": [
       "'\"Unteilbar\"-Demonstrationen: Neun Kilometer Protest'"
      ]
     },
     "execution_count": 3,
     "metadata": {},
     "output_type": "execute_result"
    }
   ],
   "source": [
    "article.title"
   ]
  },
  {
   "cell_type": "code",
   "execution_count": 4,
   "metadata": {
    "slideshow": {
     "slide_type": "fragment"
    }
   },
   "outputs": [
    {
     "data": {
      "text/plain": [
       "['Kristiana Ludwig']"
      ]
     },
     "execution_count": 4,
     "metadata": {},
     "output_type": "execute_result"
    }
   ],
   "source": [
    "article.authors"
   ]
  },
  {
   "cell_type": "code",
   "execution_count": 5,
   "metadata": {
    "slideshow": {
     "slide_type": "fragment"
    }
   },
   "outputs": [
    {
     "data": {
      "text/plain": [
       "'Die Zeiten haben sich geändert. Wie sehr, das zeigte auch ein ruhiger Sonntagnachmittag in Berlin, an dem mehrere Tausend Menschen gegen Rassismus , soziale Ungerechtigkeit und für den Klimaschutz auf die Straße gingen - und zwar an vielen Orten im Stillen. Während sich im Herbst 2018 unter der Überschrift \"Unteilbar\" noch mehr als 200 000 Menschen mit Musik- und Lautsprecherwagen durch die Hauptstadt geschoben hatten, passten die Teilnehmer desselben Bündnisses nun ihren Protest dem Infektionsschutz an.\\n\\nStatt zu marschieren bildeten die Demonstranten auf einer Strecke von rund neun Kilometern eine Menschenkette und hielten dabei meist mehrere Meter Abstand zueinander. Die Veranstalter, ein Bündnis aus 130 Initiativen und Gruppen, hatten bunte Bänder verteilt, die Demonstranten zwischen sich aufspannten - und sie riefen in Lautsprecherdurchsagen dazu auf, Mundschutz zu tragen.\\n\\nAuch der Anlass des Protests war spürbar aktuell. Mit ihren Transparenten nahmen viele Protestierende auf die \"Black Lives Matter\"-Bewegung in den USA Bezug. Lautsprecher, die entlang der Strecke postiert waren, übertrugen Reden, in denen Teilnehmer \"rassistische Strukturen\" in der Gesellschaft und Gewalt gegen Menschen mit dunkler Hautfarbe verurteilten.\\n\\nAußerdem sprachen mehrere Redner über Ungerechtigkeiten, die durch die Coronakrise entstanden seien. Bestehende soziale Probleme seien durch die Pandemie und die Wirtschaftskrise noch verschärft worden, hieß es. Über die Tonanlage übertrugen die Veranstalter auch Redebeiträge aus anderen Städten. Denn in Hamburg, Leipzig, Erfurt, Chemnitz, Plauen, Freiburg, Münster, Geislingen, Passau und Detmold hatte das Bündnis ebenfalls Proteste organisiert.\\n\\nTeilnehmer verzichteten auf Gesänge oder Rufe\\n\\nDie Vertreter aus Kultur, Politik, Zivilgesellschaft, Migrantenorganisationen und Religionen forderten außerdem bessere Arbeitsbedingungen für alle, sicheren Wohnraum, eine humanere Flüchtlingspolitik, eine gerechtere Steuerpolitik sowie Klimagerechtigkeit. An vielen Stellen der Berliner Menschenkette lauschten die Teilnehmer diesen Ausführungen und verzichteten auf Gesänge oder Rufe.\\n\\nIm Vorfeld hatte etwa der SPD-Gesundheitsexperte Karl Lauterbach vor den bundesweiten \"Unteilbar\"-Demonstrationen gewarnt. Menschenmassen, die Forderungen skandierten, seien \"ideale Bedingungen für eine Verbreitung des Virus durch Superspreader\", sagte er. Auch Berlins Regierender Bürgermeister Michael Müller (SPD) hatte die Demonstranten ermahnt, Rücksicht zu nehmen.\\n\\nAm Wochenende zuvor hatten bereits 15 000 zumeist dunkel gekleidete Menschen auf dem Berliner Alexanderplatz gegen Rassismus und Polizeigewalt demonstriert. Auch hier hatte man schweigend an den Tod des US-Amerikaners George Floyd erinnern wollen, der Ende Mai in Minneapolis von einem weißen Polizisten mit dem Knie am Hals zu Boden gedrückt wurde. Diese Proteste hatten in der vergangenen Woche jedoch Kritik ausgelöst, weil sich die Teilnehmer nicht ausreichend an Abstandsregeln gehalten hatten.\\n\\nAn diesem Sonntag zog die Berliner Polizei dagegen eine positivere Zwischenbilanz: \"Es ist schön zu sehen, wie Protest auf die Straße gebracht werden kann, ohne andere zu gefährden\", sagte ein Polizeisprecher. Auch in Hamburg seien die Proteste mit viel Abstand und friedlich verlaufen.'"
      ]
     },
     "execution_count": 5,
     "metadata": {},
     "output_type": "execute_result"
    }
   ],
   "source": [
    "article.text"
   ]
  },
  {
   "cell_type": "markdown",
   "metadata": {
    "slideshow": {
     "slide_type": "slide"
    }
   },
   "source": [
    "## Getting tabular data from Wikipedia\n",
    "\n",
    "Let's look at [some population data from Wikipedia](https://en.wikipedia.org/wiki/Berlin_population_statistics)\n"
   ]
  },
  {
   "cell_type": "code",
   "execution_count": 6,
   "metadata": {
    "slideshow": {
     "slide_type": "slide"
    }
   },
   "outputs": [
    {
     "data": {
      "application/vnd.microsoft.datawrangler.viewer.v0+json": {
       "columns": [
        {
         "name": "Borough",
         "rawType": "object",
         "type": "string"
        },
        {
         "name": "Population 30 September 2010",
         "rawType": "int64",
         "type": "integer"
        },
        {
         "name": "Area in km2",
         "rawType": "float64",
         "type": "float"
        },
        {
         "name": "Largest Non-German ethnic groups",
         "rawType": "object",
         "type": "string"
        }
       ],
       "ref": "32c99571-3b91-4508-98ce-9a921be3b8f1",
       "rows": [
        [
         "Mitte",
         "332100",
         "39.47",
         "Turks, Arabs, Kurds, many Asians, Africans and Western Europeans."
        ],
        [
         "Friedrichshain-Kreuzberg",
         "268831",
         "20.16",
         "Turks, Arabs, African, Kurds, Chinese"
        ],
        [
         "Pankow",
         "368956",
         "103.01",
         "Poles, Italians, French, Americans, Vietnamese, British"
        ],
        [
         "Charlottenburg-Wilmersdorf",
         "320014",
         "64.72",
         "Turks, Africans, Russians, Arabs, others."
        ],
        [
         "Spandau",
         "225420",
         "91.91",
         "Turks, Africans, Russians, Arabs, others."
        ],
        [
         "Steglitz-Zehlendorf",
         "293989",
         "102.5",
         "Poles, Turks, Croats, Serbs, Koreans"
        ],
        [
         "Tempelhof-Schöneberg",
         "335060",
         "53.09",
         "Turks, Croats, Serbs, Koreans, Africans"
        ],
        [
         "Neukölln",
         "310283",
         "44.93",
         "Arabs, Turks, Kurds, Russians, Africans, Poles"
        ],
        [
         "Treptow-Köpenick",
         "241335",
         "168.42",
         "Russians, Poles, Ukrainians, Vietnamese"
        ],
        [
         "Marzahn-Hellersdorf",
         "248264",
         "61.74",
         "Russians, Vietnamese, several other Eastern Europeans."
        ],
        [
         "Lichtenberg",
         "259881",
         "52.29",
         "Vietnamese, Russians, Ukrainians, Poles, Chinese"
        ]
       ],
       "shape": {
        "columns": 3,
        "rows": 11
       }
      },
      "text/html": [
       "<div>\n",
       "<style scoped>\n",
       "    .dataframe tbody tr th:only-of-type {\n",
       "        vertical-align: middle;\n",
       "    }\n",
       "\n",
       "    .dataframe tbody tr th {\n",
       "        vertical-align: top;\n",
       "    }\n",
       "\n",
       "    .dataframe thead th {\n",
       "        text-align: right;\n",
       "    }\n",
       "</style>\n",
       "<table border=\"1\" class=\"dataframe\">\n",
       "  <thead>\n",
       "    <tr style=\"text-align: right;\">\n",
       "      <th></th>\n",
       "      <th>Population 30 September 2010</th>\n",
       "      <th>Area in km2</th>\n",
       "      <th>Largest Non-German ethnic groups</th>\n",
       "    </tr>\n",
       "    <tr>\n",
       "      <th>Borough</th>\n",
       "      <th></th>\n",
       "      <th></th>\n",
       "      <th></th>\n",
       "    </tr>\n",
       "  </thead>\n",
       "  <tbody>\n",
       "    <tr>\n",
       "      <th>Mitte</th>\n",
       "      <td>332100</td>\n",
       "      <td>39.47</td>\n",
       "      <td>Turks, Arabs, Kurds, many Asians, Africans and...</td>\n",
       "    </tr>\n",
       "    <tr>\n",
       "      <th>Friedrichshain-Kreuzberg</th>\n",
       "      <td>268831</td>\n",
       "      <td>20.16</td>\n",
       "      <td>Turks, Arabs, African, Kurds, Chinese</td>\n",
       "    </tr>\n",
       "    <tr>\n",
       "      <th>Pankow</th>\n",
       "      <td>368956</td>\n",
       "      <td>103.01</td>\n",
       "      <td>Poles, Italians, French, Americans, Vietnamese...</td>\n",
       "    </tr>\n",
       "    <tr>\n",
       "      <th>Charlottenburg-Wilmersdorf</th>\n",
       "      <td>320014</td>\n",
       "      <td>64.72</td>\n",
       "      <td>Turks, Africans, Russians, Arabs, others.</td>\n",
       "    </tr>\n",
       "    <tr>\n",
       "      <th>Spandau</th>\n",
       "      <td>225420</td>\n",
       "      <td>91.91</td>\n",
       "      <td>Turks, Africans, Russians, Arabs, others.</td>\n",
       "    </tr>\n",
       "    <tr>\n",
       "      <th>Steglitz-Zehlendorf</th>\n",
       "      <td>293989</td>\n",
       "      <td>102.50</td>\n",
       "      <td>Poles, Turks, Croats, Serbs, Koreans</td>\n",
       "    </tr>\n",
       "    <tr>\n",
       "      <th>Tempelhof-Schöneberg</th>\n",
       "      <td>335060</td>\n",
       "      <td>53.09</td>\n",
       "      <td>Turks, Croats, Serbs, Koreans, Africans</td>\n",
       "    </tr>\n",
       "    <tr>\n",
       "      <th>Neukölln</th>\n",
       "      <td>310283</td>\n",
       "      <td>44.93</td>\n",
       "      <td>Arabs, Turks, Kurds, Russians, Africans, Poles</td>\n",
       "    </tr>\n",
       "    <tr>\n",
       "      <th>Treptow-Köpenick</th>\n",
       "      <td>241335</td>\n",
       "      <td>168.42</td>\n",
       "      <td>Russians, Poles, Ukrainians, Vietnamese</td>\n",
       "    </tr>\n",
       "    <tr>\n",
       "      <th>Marzahn-Hellersdorf</th>\n",
       "      <td>248264</td>\n",
       "      <td>61.74</td>\n",
       "      <td>Russians, Vietnamese, several other Eastern Eu...</td>\n",
       "    </tr>\n",
       "    <tr>\n",
       "      <th>Lichtenberg</th>\n",
       "      <td>259881</td>\n",
       "      <td>52.29</td>\n",
       "      <td>Vietnamese, Russians, Ukrainians, Poles, Chinese</td>\n",
       "    </tr>\n",
       "  </tbody>\n",
       "</table>\n",
       "</div>"
      ],
      "text/plain": [
       "                            Population 30 September 2010  Area in km2  \\\n",
       "Borough                                                                 \n",
       "Mitte                                             332100        39.47   \n",
       "Friedrichshain-Kreuzberg                          268831        20.16   \n",
       "Pankow                                            368956       103.01   \n",
       "Charlottenburg-Wilmersdorf                        320014        64.72   \n",
       "Spandau                                           225420        91.91   \n",
       "Steglitz-Zehlendorf                               293989       102.50   \n",
       "Tempelhof-Schöneberg                              335060        53.09   \n",
       "Neukölln                                          310283        44.93   \n",
       "Treptow-Köpenick                                  241335       168.42   \n",
       "Marzahn-Hellersdorf                               248264        61.74   \n",
       "Lichtenberg                                       259881        52.29   \n",
       "\n",
       "                                             Largest Non-German ethnic groups  \n",
       "Borough                                                                        \n",
       "Mitte                       Turks, Arabs, Kurds, many Asians, Africans and...  \n",
       "Friedrichshain-Kreuzberg                Turks, Arabs, African, Kurds, Chinese  \n",
       "Pankow                      Poles, Italians, French, Americans, Vietnamese...  \n",
       "Charlottenburg-Wilmersdorf          Turks, Africans, Russians, Arabs, others.  \n",
       "Spandau                             Turks, Africans, Russians, Arabs, others.  \n",
       "Steglitz-Zehlendorf                      Poles, Turks, Croats, Serbs, Koreans  \n",
       "Tempelhof-Schöneberg                  Turks, Croats, Serbs, Koreans, Africans  \n",
       "Neukölln                       Arabs, Turks, Kurds, Russians, Africans, Poles  \n",
       "Treptow-Köpenick                      Russians, Poles, Ukrainians, Vietnamese  \n",
       "Marzahn-Hellersdorf         Russians, Vietnamese, several other Eastern Eu...  \n",
       "Lichtenberg                  Vietnamese, Russians, Ukrainians, Poles, Chinese  "
      ]
     },
     "execution_count": 6,
     "metadata": {},
     "output_type": "execute_result"
    }
   ],
   "source": [
    "berlin_population = pd.read_html(\"https://en.wikipedia.org/wiki/Berlin_population_statistics\", header=0)\n",
    "df_berlin_population = berlin_population[0][:11].set_index('Borough')\n",
    "df_berlin_population"
   ]
  },
  {
   "cell_type": "code",
   "execution_count": 7,
   "metadata": {
    "scrolled": true,
    "slideshow": {
     "slide_type": "slide"
    }
   },
   "outputs": [
    {
     "data": {
      "image/png": "[encoded data removed]",
      "text/plain": [
       "<Figure size 640x480 with 1 Axes>"
      ]
     },
     "metadata": {},
     "output_type": "display_data"
    }
   ],
   "source": [
    "%matplotlib inline\n",
    "# Concatenate all tables on population statistics\n",
    "overall_population = pd.concat(berlin_population[2:5])\n",
    "# Extract the years\n",
    "overall_population.Year = overall_population.Year.str.extract('(\\d{4})', expand=False)\n",
    "# Set the index to the year column, so plotting is nicer\n",
    "overall_population = overall_population.set_index(\"Year\")\n",
    "overall_population.plot();"
   ]
  },
  {
   "cell_type": "markdown",
   "metadata": {
    "slideshow": {
     "slide_type": "slide"
    }
   },
   "source": [
    "## Beautiful Soup for Web Scraping\n",
    "\n",
    "- HTML pages are often not well structured\n",
    "- [Beautiful Soup](https://www.crummy.com/software/BeautifulSoup/)\n",
    "    - tidies up dirty HTML\n",
    "    - allows for convenient parsing of HTML\n",
    "- Every browser offers web developer tools that allow you to inspect how the webpage is built."
   ]
  },
  {
   "cell_type": "markdown",
   "metadata": {
    "slideshow": {
     "slide_type": "slide"
    }
   },
   "source": [
    "### A Simple Webpage"
   ]
  },
  {
   "cell_type": "code",
   "execution_count": 9,
   "metadata": {
    "slideshow": {
     "slide_type": "fragment"
    }
   },
   "outputs": [],
   "source": [
    "a_simple_webpage = \\\n",
    "\"\"\"<html>\n",
    "    <head>\n",
    "    </head>\n",
    "    <body>\n",
    "        <p>\n",
    "            A paragraph\n",
    "        </p>\n",
    "        <p id=\"second_paragraph\">\n",
    "           Another paragraph with a <a href=\"https://de.wikipedia.org/wiki/Beuth_(Lokomotive)\">link</a>\n",
    "        </p>\n",
    "    </body>\n",
    "</html>\"\"\""
   ]
  },
  {
   "cell_type": "code",
   "execution_count": 10,
   "metadata": {
    "slideshow": {
     "slide_type": "slide"
    }
   },
   "outputs": [],
   "source": [
    "from bs4 import BeautifulSoup\n",
    "soup = BeautifulSoup(a_simple_webpage, 'html.parser')"
   ]
  },
  {
   "cell_type": "code",
   "execution_count": 11,
   "metadata": {
    "scrolled": false,
    "slideshow": {
     "slide_type": "fragment"
    }
   },
   "outputs": [
    {
     "data": {
      "text/plain": [
       "[<html>\n",
       " <head>\n",
       " </head>\n",
       " <body>\n",
       " <p>\n",
       "             A paragraph\n",
       "         </p>\n",
       " <p id=\"second_paragraph\">\n",
       "            Another paragraph with a <a href=\"https://de.wikipedia.org/wiki/Beuth_(Lokomotive)\">link</a>\n",
       " </p>\n",
       " </body>\n",
       " </html>]"
      ]
     },
     "execution_count": 11,
     "metadata": {},
     "output_type": "execute_result"
    }
   ],
   "source": [
    "list(soup.children)"
   ]
  },
  {
   "cell_type": "code",
   "execution_count": 12,
   "metadata": {
    "slideshow": {
     "slide_type": "fragment"
    }
   },
   "outputs": [
    {
     "data": {
      "text/plain": [
       "[<p>\n",
       "             A paragraph\n",
       "         </p>,\n",
       " <p id=\"second_paragraph\">\n",
       "            Another paragraph with a <a href=\"https://de.wikipedia.org/wiki/Beuth_(Lokomotive)\">link</a>\n",
       " </p>]"
      ]
     },
     "execution_count": 12,
     "metadata": {},
     "output_type": "execute_result"
    }
   ],
   "source": [
    "# Extracting text\n",
    "paragraphs = soup.find_all('p')\n",
    "paragraphs"
   ]
  },
  {
   "cell_type": "code",
   "execution_count": 13,
   "metadata": {
    "slideshow": {
     "slide_type": "fragment"
    }
   },
   "outputs": [
    {
     "data": {
      "text/plain": [
       "['A paragraph', 'Another paragraph with a link']"
      ]
     },
     "execution_count": 13,
     "metadata": {},
     "output_type": "execute_result"
    }
   ],
   "source": [
    "[p.get_text().strip() for p in paragraphs]"
   ]
  },
  {
   "cell_type": "code",
   "execution_count": 14,
   "metadata": {
    "slideshow": {
     "slide_type": "fragment"
    }
   },
   "outputs": [
    {
     "data": {
      "text/plain": [
       "[<a href=\"https://de.wikipedia.org/wiki/Beuth_(Lokomotive)\">link</a>]"
      ]
     },
     "execution_count": 14,
     "metadata": {},
     "output_type": "execute_result"
    }
   ],
   "source": [
    "# Extracting links\n",
    "links = soup.find_all('a')\n",
    "links"
   ]
  },
  {
   "cell_type": "code",
   "execution_count": 15,
   "metadata": {
    "slideshow": {
     "slide_type": "slide"
    }
   },
   "outputs": [
    {
     "data": {
      "text/plain": [
       "'https://de.wikipedia.org/wiki/Beuth_(Lokomotive)'"
      ]
     },
     "execution_count": 15,
     "metadata": {},
     "output_type": "execute_result"
    }
   ],
   "source": [
    "links[0].get('href')"
   ]
  },
  {
   "cell_type": "code",
   "execution_count": 16,
   "metadata": {
    "slideshow": {
     "slide_type": "fragment"
    }
   },
   "outputs": [
    {
     "data": {
      "text/plain": [
       "['Another paragraph with a link']"
      ]
     },
     "execution_count": 16,
     "metadata": {},
     "output_type": "execute_result"
    }
   ],
   "source": [
    "# Extracting arbitrary elements\n",
    "[x.get_text().strip() for x in soup.find_all(id=\"second_paragraph\")]"
   ]
  },
  {
   "cell_type": "markdown",
   "metadata": {},
   "source": [
    "## Scraping Images with Selenium"
   ]
  },
  {
   "cell_type": "markdown",
   "metadata": {},
   "source": [
    "Here is an extensive example of scraping images with Selenium:\n",
    "\n",
    "[Webscraper_iNat](https://github.com/TeodorChiaburu/beexplainable/blob/main/scripts/webscraper_inat.py)\n",
    "\n",
    "If you want to play with this script, I recommend doing it on your machine. You can download images in a local folder on your laptop and then just drag and drop it in the remote VSCode window in your PV, for instance under a new path /dsworkflow/data. If the images take up too much space and you need more storage in your PV, just increase the size in *storage.yml* and apply the file again. You don't need to delete it first.\n",
    "\n",
    "To run the script you will need to install Selenium in your Python environment and also download the appropriate GeckoDriver for your browser (more details in the script).\n",
    "\n",
    "You can check how full your PV is if you call `du -sh .` while inside the \\storage folder."
   ]
  },
  {
   "cell_type": "markdown",
   "metadata": {},
   "source": [
    "## Downloading Images in the PV from Google Drive"
   ]
  },
  {
   "cell_type": "markdown",
   "metadata": {},
   "source": [
    "Theoretically, multiple namespaces can share a common PV. However, this requires admin intervention.\n",
    "\n",
    "The default setting is: a PV is only visible within the scope of the namespace that created it on the cluster.\n",
    "We will stick to this default behavior in this course, which means, for instance, that every member of a team working with the same data for the project will have to download their own copy of the data in their own PV. "
   ]
  },
  {
   "cell_type": "code",
   "execution_count": null,
   "metadata": {},
   "outputs": [
    {
     "name": "stderr",
     "output_type": "stream",
     "text": [
      "Retrieving folder contents\n"
     ]
    },
    {
     "name": "stdout",
     "output_type": "stream",
     "text": [
      "Processing file 1TIUDBEdt3PWuzY8TmWEILyulokaCq2DU cheetah.jpg\n",
      "Processing file 1KOxqSvbdoS79ZKyBv_pjsu7Z2TPcZK4o turtle.jpg\n",
      "Processing file 10P1EhqHt6tkNqV2OCj2VJsOQWCeV87G- zebra.jpg\n"
     ]
    },
    {
     "name": "stderr",
     "output_type": "stream",
     "text": [
      "Retrieving folder contents completed\n",
      "Building directory structure\n",
      "Building directory structure completed\n",
      "Downloading...\n",
      "From: https://drive.google.com/uc?id=1TIUDBEdt3PWuzY8TmWEILyulokaCq2DU\n",
      "To: /storage/courses/dsworkflow/data/dsw_gdrive_imgs/cheetah.jpg\n",
      "100%|██████████| 198k/198k [00:00<00:00, 7.62MB/s]\n",
      "Downloading...\n",
      "From: https://drive.google.com/uc?id=1KOxqSvbdoS79ZKyBv_pjsu7Z2TPcZK4o\n",
      "To: /storage/courses/dsworkflow/data/dsw_gdrive_imgs/turtle.jpg\n",
      "100%|██████████| 185k/185k [00:00<00:00, 10.5MB/s]\n",
      "Downloading...\n",
      "From: https://drive.google.com/uc?id=10P1EhqHt6tkNqV2OCj2VJsOQWCeV87G-\n",
      "To: /storage/courses/dsworkflow/data/dsw_gdrive_imgs/zebra.jpg\n",
      "100%|██████████| 263k/263k [00:00<00:00, 9.16MB/s]\n",
      "Download completed\n"
     ]
    },
    {
     "data": {
      "text/plain": [
       "['../../../data/dsw_gdrive_imgs/cheetah.jpg',\n",
       " '../../../data/dsw_gdrive_imgs/turtle.jpg',\n",
       " '../../../data/dsw_gdrive_imgs/zebra.jpg']"
      ]
     },
     "execution_count": 12,
     "metadata": {},
     "output_type": "execute_result"
    }
   ],
   "source": [
    "# You can very easily download Google Drive folders, if they are public.\n",
    "# Here is an example with a folder containing 3 images that I shared.\n",
    "import gdown\n",
    "url = \"https://drive.google.com/drive/folders/1kpo3edT_k5KLX1GqcOqcHtff4YxfuGMj\"\n",
    "output = \"../../../data/\"\n",
    "gdown.download_folder(url=url, output=output)"
   ]
  }
 ],
 "metadata": {
  "celltoolbar": "Slideshow",
  "kernelspec": {
   "display_name": ".venv",
   "language": "python",
   "name": "python3"
  },
  "language_info": {
   "codemirror_mode": {
    "name": "ipython",
    "version": 3
   },
   "file_extension": ".py",
   "mimetype": "text/x-python",
   "name": "python",
   "nbconvert_exporter": "python",
   "pygments_lexer": "ipython3",
   "version": "3.11.9"
  }
 },
 "nbformat": 4,
 "nbformat_minor": 2
}
